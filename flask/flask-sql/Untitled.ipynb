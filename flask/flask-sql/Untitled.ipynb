{
 "cells": [
  {
   "cell_type": "code",
   "execution_count": null,
   "metadata": {},
   "outputs": [],
   "source": [
    "from flask import Flask"
   ]
  },
  {
   "cell_type": "code",
   "execution_count": null,
   "metadata": {},
   "outputs": [],
   "source": [
    "from flask_sqlalchemy import SQLAlchemy"
   ]
  },
  {
   "cell_type": "code",
   "execution_count": null,
   "metadata": {},
   "outputs": [],
   "source": [
    "app=Flask(\"iiecapp\")"
   ]
  },
  {
   "cell_type": "code",
   "execution_count": null,
   "metadata": {},
   "outputs": [],
   "source": [
    "app.config['SQLALCHEMY_DATABASE_URI']='sqlite:///mydb/data.sqlite'"
   ]
  },
  {
   "cell_type": "code",
   "execution_count": null,
   "metadata": {},
   "outputs": [],
   "source": [
    "#ORM\n",
    "db=SQLAlchemy(app)\n",
    "print(db)"
   ]
  },
  {
   "cell_type": "code",
   "execution_count": null,
   "metadata": {},
   "outputs": [],
   "source": [
    "class iiec(db.Model):\n",
    "    iid=db.Column(db.Integer, primary_key=True)\n",
    "    name=db.Column(db.Text)\n",
    "    age=db.Column(db.Integer)\n",
    "    remarks=db.Column(db.Text)\n",
    "    \n",
    "    def __init__(self, name, age, remarks):\n",
    "        self.name=name\n",
    "        self.age=age\n",
    "        self.remarks=remarks"
   ]
  },
  {
   "cell_type": "code",
   "execution_count": null,
   "metadata": {},
   "outputs": [],
   "source": [
    "db.create_all()"
   ]
  },
  {
   "cell_type": "code",
   "execution_count": null,
   "metadata": {},
   "outputs": [],
   "source": [
    "#Create\n",
    "vimal=iiec(\"vimal\",19,\"ok\")\n",
    "db.session.add(vimal)\n",
    "db.session.commit()"
   ]
  },
  {
   "cell_type": "code",
   "execution_count": 1,
   "metadata": {},
   "outputs": [
    {
     "name": "stdout",
     "output_type": "stream",
     "text": [
      "<SQLAlchemy engine=sqlite:///C:\\Users\\Rahul Bhardwaj\\Desktop\\Arth-coding\\IIEC\\flask\\flask-sql\\mydb\\data.sqlite>\n"
     ]
    },
    {
     "name": "stderr",
     "output_type": "stream",
     "text": [
      "C:\\Anaconda3\\lib\\site-packages\\flask_sqlalchemy\\__init__.py:872: FSADeprecationWarning: SQLALCHEMY_TRACK_MODIFICATIONS adds significant overhead and will be disabled by default in the future.  Set it to True or False to suppress this warning.\n",
      "  warnings.warn(FSADeprecationWarning(\n"
     ]
    }
   ],
   "source": [
    "from flask import Flask\n",
    "from flask_sqlalchemy import SQLAlchemy\n",
    "\n",
    "app=Flask('iiecapp')\n",
    "app.config['SQLALCHEMY_DATABASE_URI']='sqlite:///mydb\\data.sqlite'\n",
    "\n",
    "\n",
    "#ORM\n",
    "db=SQLAlchemy(app)\n",
    "print(db)\n",
    "\n",
    "class iiec(db.Model):\n",
    "    iid=db.Column(db.Integer, primary_key=True)\n",
    "    name=db.Column(db.Text)\n",
    "    age=db.Column(db.Integer)\n",
    "    remarks=db.Column(db.Text)\n",
    "    \n",
    "    def __init__(self, name, age, remarks):\n",
    "        self.name=name\n",
    "        self.age=age\n",
    "        self.remarks=remarks\n",
    "\n",
    "db.create_all()\n"
   ]
  },
  {
   "cell_type": "code",
   "execution_count": 2,
   "metadata": {},
   "outputs": [
    {
     "data": {
      "text/plain": [
       "<bound method instrument.<locals>.do of <sqlalchemy.orm.scoping.scoped_session object at 0x000001D1583ED460>>"
      ]
     },
     "execution_count": 2,
     "metadata": {},
     "output_type": "execute_result"
    }
   ],
   "source": [
    "#CREATE\n",
    "vimal=iiec(\"vimal\", 20, \"ok\")\n",
    "db.session.add(vimal)\n",
    "db.session.commit"
   ]
  },
  {
   "cell_type": "code",
   "execution_count": null,
   "metadata": {},
   "outputs": [],
   "source": []
  }
 ],
 "metadata": {
  "kernelspec": {
   "display_name": "Python 3",
   "language": "python",
   "name": "python3"
  },
  "language_info": {
   "codemirror_mode": {
    "name": "ipython",
    "version": 3
   },
   "file_extension": ".py",
   "mimetype": "text/x-python",
   "name": "python",
   "nbconvert_exporter": "python",
   "pygments_lexer": "ipython3",
   "version": "3.8.3"
  }
 },
 "nbformat": 4,
 "nbformat_minor": 4
}
